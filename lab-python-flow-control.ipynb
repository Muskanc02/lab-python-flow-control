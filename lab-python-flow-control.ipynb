{
 "cells": [
  {
   "cell_type": "markdown",
   "id": "d3bfc191-8885-42ee-b0a0-bbab867c6f9f",
   "metadata": {
    "tags": []
   },
   "source": [
    "# Lab | Flow Control"
   ]
  },
  {
   "cell_type": "markdown",
   "id": "3851fcd1-cf98-4653-9c89-e003b7ec9400",
   "metadata": {},
   "source": [
    "## Exercise: Managing Customer Orders Optimized\n",
    "\n",
    "In the last lab, you were starting an online store that sells various products. To ensure smooth operations, you developed a program that manages customer orders and inventory.\n",
    "\n",
    "You did so without using flow control. Let's go a step further and improve this code.\n",
    "\n",
    "Follow the steps below to complete the exercise:\n",
    "\n",
    "1. Look at your code from the lab data structures, and improve repeated code with loops.\n",
    "\n",
    "2. Instead of asking the user to input the name of three products that a customer wants to order, do the following:\n",
    "    \n",
    "    a. Prompt the user to enter the name of a product that a customer wants to order.\n",
    "    \n",
    "    b. Add the product name to the \"customer_orders\" set.\n",
    "    \n",
    "    c. Ask the user if they want to add another product (yes/no).\n",
    "    \n",
    "    d. Continue the loop until the user does not want to add another product.\n",
    "\n",
    "3. Instead of updating the inventory by subtracting 1 from the quantity of each product, only do it for  the products that were ordered (those in \"customer_orders\")."
   ]
  },
  {
   "cell_type": "code",
   "execution_count": 53,
   "id": "d2a02862-e7f6-4d31-a425-66dc16e61a91",
   "metadata": {},
   "outputs": [
    {
     "name": "stdin",
     "output_type": "stream",
     "text": [
      "Enter list of products for inventory using space mug pen diary\n",
      "Enter number of mug 55\n",
      "Enter number of pen 6\n",
      "Enter number of diary 8\n"
     ]
    },
    {
     "name": "stdout",
     "output_type": "stream",
     "text": [
      "['55', '6', '8']\n"
     ]
    }
   ],
   "source": [
    "#1 List of products containing objects \n",
    "\n",
    "list_of_values=[]\n",
    "products=[]\n",
    "\n",
    "products=input(\"Enter list of products for inventory using space\").split(\" \")\n",
    "for pro in products :\n",
    "       value=input(f\"Enter number of {pro}\")\n",
    "       list_of_values.append(value)\n",
    "\n",
    "print(list_of_values)"
   ]
  },
  {
   "cell_type": "code",
   "execution_count": 74,
   "id": "1f4ee843-ae47-4aa3-b0fc-32996b9c9838",
   "metadata": {},
   "outputs": [
    {
     "name": "stdin",
     "output_type": "stream",
     "text": [
      "Enter the product you wantto order ug\n",
      "Enter if you want to add another product no\n"
     ]
    },
    {
     "name": "stdout",
     "output_type": "stream",
     "text": [
      "['ug']\n"
     ]
    },
    {
     "name": "stdin",
     "output_type": "stream",
     "text": [
      "Enter number of ug 9\n"
     ]
    },
    {
     "name": "stdout",
     "output_type": "stream",
     "text": [
      "['9']\n"
     ]
    }
   ],
   "source": [
    "#2 Add products\n",
    "prod=input(\"Enter the product you wantto order\")\n",
    "customer_orders=[prod]\n",
    "list_of_values_cust=[]\n",
    "\n",
    "while inp:\n",
    "    inp=input(\"Enter if you want to add another product\")\n",
    "    if inp==\"yes\":\n",
    "        prod=input(\"Enter the product you want to order\")\n",
    "        customer_orders.append(prod)\n",
    "    if inp==\"no\" :\n",
    "        break\n",
    "        \n",
    "print(customer_orders)\n",
    "\n",
    "for cust_pro in customer_orders :\n",
    "       value=input(f\"Enter number of {cust_pro}\")\n",
    "       list_of_values_cust.append(value)\n",
    "\n",
    "print(list_of_values_cust)"
   ]
  },
  {
   "cell_type": "code",
   "execution_count": 78,
   "id": "5c37c0f8-db14-44e0-bb79-2d2703f4056f",
   "metadata": {},
   "outputs": [
    {
     "name": "stdout",
     "output_type": "stream",
     "text": [
      "{'mug': '55', 'pen': '6', 'diary': '8', 'ug': '9'}\n"
     ]
    }
   ],
   "source": [
    "inventory={}\n",
    "for product in products:\n",
    "         inventory[product]=list_of_values[products.index(product)]\n",
    "    \n",
    "for cust_product in customer_orders:\n",
    "         inventory[cust_product]=list_of_values_cust[customer_orders.index(cust_product)]\n",
    "\n",
    "\n",
    "print(inventory)\n",
    "\n",
    "         "
   ]
  },
  {
   "cell_type": "code",
   "execution_count": 88,
   "id": "0f038978-1e15-4f67-8a6e-9b3f8bf50182",
   "metadata": {},
   "outputs": [
    {
     "name": "stdout",
     "output_type": "stream",
     "text": [
      "{'mug': '55', 'pen': '6', 'diary': '8', 'ug': 6}\n"
     ]
    }
   ],
   "source": [
    "\n",
    "for key, value in inventory.items():\n",
    "    if(key in customer_orders):\n",
    "         if(value !='' and value !=0):\n",
    "             inventory[key]=int(value)-1\n",
    "print(inventory)\n",
    "        "
   ]
  },
  {
   "cell_type": "code",
   "execution_count": null,
   "id": "090c5cc5-9818-47c0-b522-52ef2db383aa",
   "metadata": {},
   "outputs": [],
   "source": []
  },
  {
   "cell_type": "code",
   "execution_count": null,
   "id": "c0e66f20-07d3-4703-a21e-bffb674970eb",
   "metadata": {},
   "outputs": [],
   "source": []
  }
 ],
 "metadata": {
  "kernelspec": {
   "display_name": "Python [conda env:workevt]",
   "language": "python",
   "name": "conda-env-workevt-py"
  },
  "language_info": {
   "codemirror_mode": {
    "name": "ipython",
    "version": 3
   },
   "file_extension": ".py",
   "mimetype": "text/x-python",
   "name": "python",
   "nbconvert_exporter": "python",
   "pygments_lexer": "ipython3",
   "version": "3.12.8"
  }
 },
 "nbformat": 4,
 "nbformat_minor": 5
}
